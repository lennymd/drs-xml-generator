{
 "cells": [
  {
   "cell_type": "markdown",
   "id": "7cd090df",
   "metadata": {},
   "source": [
    "# Book Reviews Processor\n",
    "\n",
    "This notebook generates the XML file for CrossRef following the [Reports layout here ](https://gitlab.com/crossref/schema/-/blob/master/best-practice-examples/report.5.3.0.xml)\n"
   ]
  },
  {
   "cell_type": "code",
   "execution_count": null,
   "id": "932d33fe",
   "metadata": {},
   "outputs": [],
   "source": [
    "from drsxml.core import (\n",
    "    generate_doi_batch_root,\n",
    "    populate_doi_batch_head,\n",
    "    populate_book_review_body,\n",
    "    preview_xml_tree,\n",
    "    load_xls_data,\n",
    "    write_xml_to_file\n",
    ")"
   ]
  },
  {
   "cell_type": "code",
   "execution_count": null,
   "id": "7aafbb93",
   "metadata": {},
   "outputs": [],
   "source": [
    "# LOAD XLS FILE FOR PROCESSING\n",
    "\n",
    "records = load_xls_data(\"book-reviews-test.xls\")\n",
    "for rec in records[:5]:\n",
    "    print(rec)"
   ]
  },
  {
   "cell_type": "code",
   "execution_count": null,
   "id": "4c4cb6e3",
   "metadata": {},
   "outputs": [],
   "source": [
    "# GENERATE XML TREE\n",
    "\n",
    "# Create the root element for the DOI batch\n",
    "root, head, body = generate_doi_batch_root()\n",
    "\n",
    "# Populate the head with metadata\n",
    "populate_doi_batch_head(head, \"book-reviews-test.xls\")\n",
    "\n",
    "# Populate the body with book review records\n",
    "populate_book_review_body(body, records)"
   ]
  },
  {
   "cell_type": "code",
   "execution_count": null,
   "id": "eeb15a56",
   "metadata": {},
   "outputs": [],
   "source": [
    "# Save XML to file\n",
    "\n",
    "write_xml_to_file(root, \"book-reviews-test.xml\")"
   ]
  },
  {
   "cell_type": "code",
   "execution_count": null,
   "id": "091aa46e",
   "metadata": {},
   "outputs": [],
   "source": []
  }
 ],
 "metadata": {
  "kernelspec": {
   "display_name": "base",
   "language": "python",
   "name": "python3"
  },
  "language_info": {
   "codemirror_mode": {
    "name": "ipython",
    "version": 3
   },
   "file_extension": ".py",
   "mimetype": "text/x-python",
   "name": "python",
   "nbconvert_exporter": "python",
   "pygments_lexer": "ipython3",
   "version": "3.12.7"
  }
 },
 "nbformat": 4,
 "nbformat_minor": 5
}
