{
 "cells": [
  {
   "cell_type": "markdown",
   "id": "7cd090df",
   "metadata": {},
   "source": [
    "# Book Reviews Processor\n",
    "\n",
    "This notebook generates the XML file for CrossRef following the [Reports layout here ](https://gitlab.com/crossref/schema/-/blob/master/best-practice-examples/report.5.3.0.xml)\n"
   ]
  },
  {
   "cell_type": "code",
   "execution_count": 2,
   "id": "932d33fe",
   "metadata": {},
   "outputs": [],
   "source": [
    "from drsxml.core import (\n",
    "    generate_doi_batch_root,\n",
    "    populate_doi_batch_head,\n",
    "    populate_book_review_body,\n",
    "    preview_xml_tree,\n",
    "    load_xls_data,\n",
    "    write_xml_to_file\n",
    ")"
   ]
  },
  {
   "cell_type": "code",
   "execution_count": 3,
   "id": "7aafbb93",
   "metadata": {},
   "outputs": [
    {
     "name": "stdout",
     "output_type": "stream",
     "text": [
      "{'title': 'Review of The Legal Design Book: Doing Law in the 21st Century', 'document_type': 'bookreview', 'publication_date': Timestamp('2022-03-28 00:00:00'), 'keywords': 'book review, legal design, design research', 'disciplines': 'Art and Design', 'abstract': '', 'doi': '10.21606/wsbr.001', 'comments': '', 'custom_citation': '', 'fulltext_url': '', 'author1_fname': 'Mohammed', 'author1_mname': '', 'author1_lname': 'Al Rezan', 'author1_suffix': '', 'author1_email': '', 'author1_institution': 'Al-Imam Mohamed Ibn Saud Islamic University', 'author1_is_corporate': '', 'author2_fname': '', 'author2_mname': '', 'author2_lname': '', 'author2_suffix': '', 'author2_email': '', 'author2_institution': '', 'author2_is_corporate': '', 'author3_fname': '', 'author3_mname': '', 'author3_lname': '', 'author3_suffix': '', 'author3_email': '', 'author3_institution': '', 'author3_is_corporate': '', 'author4_fname': '', 'author4_mname': '', 'author4_lname': '', 'author4_suffix': '', 'author4_email': '', 'author4_institution': '', 'author4_is_corporate': '', 'author5_fname': '', 'author5_mname': '', 'author5_lname': '', 'author5_suffix': '', 'author5_email': '', 'author5_institution': '', 'author5_is_corporate': '', 'calc_url': 'https://dl.designresearchsociety.org/drs-book-reviews/3', 'context_key': '38124363', 'issue': 'drs-book-reviews', 'ctmtime': '1740425044', 'year': 2022, 'month': 3, 'day': 28}\n",
      "{'title': 'Review of Design, Empathy, Interpretation: Toward Interpretive Design Research', 'document_type': 'bookreview', 'publication_date': Timestamp('2023-10-27 00:00:00'), 'keywords': 'book review, design research, design research society', 'disciplines': 'Art and Design', 'abstract': '', 'doi': '10.21606/wsbr.002', 'comments': '', 'custom_citation': '', 'fulltext_url': '', 'author1_fname': 'Jules', 'author1_mname': 'Rochielle', 'author1_lname': 'Sievert', 'author1_suffix': '', 'author1_email': '', 'author1_institution': 'Northeastern University', 'author1_is_corporate': '', 'author2_fname': '', 'author2_mname': '', 'author2_lname': '', 'author2_suffix': '', 'author2_email': '', 'author2_institution': '', 'author2_is_corporate': '', 'author3_fname': '', 'author3_mname': '', 'author3_lname': '', 'author3_suffix': '', 'author3_email': '', 'author3_institution': '', 'author3_is_corporate': '', 'author4_fname': '', 'author4_mname': '', 'author4_lname': '', 'author4_suffix': '', 'author4_email': '', 'author4_institution': '', 'author4_is_corporate': '', 'author5_fname': '', 'author5_mname': '', 'author5_lname': '', 'author5_suffix': '', 'author5_email': '', 'author5_institution': '', 'author5_is_corporate': '', 'calc_url': 'https://dl.designresearchsociety.org/drs-book-reviews/2', 'context_key': '38124375', 'issue': 'drs-book-reviews', 'ctmtime': '1740425044', 'year': 2023, 'month': 10, 'day': 27}\n",
      "{'title': 'Review of Design for a Better World: Meaningful, Sustainable, Humanity Centered', 'document_type': 'bookreview', 'publication_date': Timestamp('2023-11-08 00:00:00'), 'keywords': 'book review, design research, design research society', 'disciplines': 'Art and Design', 'abstract': '', 'doi': '10.21606/wsbr.003', 'comments': '', 'custom_citation': '', 'fulltext_url': '', 'author1_fname': 'Shriyash', 'author1_mname': '', 'author1_lname': 'Shete', 'author1_suffix': '', 'author1_email': '', 'author1_institution': '', 'author1_is_corporate': '', 'author2_fname': '', 'author2_mname': '', 'author2_lname': '', 'author2_suffix': '', 'author2_email': '', 'author2_institution': '', 'author2_is_corporate': '', 'author3_fname': '', 'author3_mname': '', 'author3_lname': '', 'author3_suffix': '', 'author3_email': '', 'author3_institution': '', 'author3_is_corporate': '', 'author4_fname': '', 'author4_mname': '', 'author4_lname': '', 'author4_suffix': '', 'author4_email': '', 'author4_institution': '', 'author4_is_corporate': '', 'author5_fname': '', 'author5_mname': '', 'author5_lname': '', 'author5_suffix': '', 'author5_email': '', 'author5_institution': '', 'author5_is_corporate': '', 'calc_url': 'https://dl.designresearchsociety.org/drs-book-reviews/1', 'context_key': '38124438', 'issue': 'drs-book-reviews', 'ctmtime': '1740425044', 'year': 2023, 'month': 11, 'day': 8}\n",
      "{'title': 'Review of Design is Power: The Dark Side', 'document_type': 'bookreview', 'publication_date': Timestamp('2025-01-01 00:00:00'), 'keywords': 'drs, design research, design research society, book review', 'disciplines': 'Art and Design', 'abstract': '', 'doi': '10.21606/wsbr.004', 'comments': '', 'custom_citation': '', 'fulltext_url': '', 'author1_fname': 'Samantha', 'author1_mname': '', 'author1_lname': 'Osys', 'author1_suffix': '', 'author1_email': '', 'author1_institution': 'The Open University', 'author1_is_corporate': '', 'author2_fname': '', 'author2_mname': '', 'author2_lname': '', 'author2_suffix': '', 'author2_email': '', 'author2_institution': '', 'author2_is_corporate': '', 'author3_fname': '', 'author3_mname': '', 'author3_lname': '', 'author3_suffix': '', 'author3_email': '', 'author3_institution': '', 'author3_is_corporate': '', 'author4_fname': '', 'author4_mname': '', 'author4_lname': '', 'author4_suffix': '', 'author4_email': '', 'author4_institution': '', 'author4_is_corporate': '', 'author5_fname': '', 'author5_mname': '', 'author5_lname': '', 'author5_suffix': '', 'author5_email': '', 'author5_institution': '', 'author5_is_corporate': '', 'calc_url': 'https://dl.designresearchsociety.org/drs-book-reviews/4', 'context_key': '38164143', 'issue': 'drs-book-reviews', 'ctmtime': '1740425044', 'year': 2025, 'month': 1, 'day': 1}\n",
      "{'title': 'Review of Design Social Change: take action, work toward equity, and challenge the status quo', 'document_type': 'bookreview', 'publication_date': Timestamp('2024-02-01 00:00:00'), 'keywords': 'book review, drs, design research, design research society', 'disciplines': 'Art and Design', 'abstract': '', 'doi': '10.21606/wsbr.005', 'comments': '', 'custom_citation': '', 'fulltext_url': '', 'author1_fname': 'Michael', 'author1_mname': '', 'author1_lname': 'Kibedi', 'author1_suffix': '', 'author1_email': '', 'author1_institution': '', 'author1_is_corporate': '', 'author2_fname': '', 'author2_mname': '', 'author2_lname': '', 'author2_suffix': '', 'author2_email': '', 'author2_institution': '', 'author2_is_corporate': '', 'author3_fname': '', 'author3_mname': '', 'author3_lname': '', 'author3_suffix': '', 'author3_email': '', 'author3_institution': '', 'author3_is_corporate': '', 'author4_fname': '', 'author4_mname': '', 'author4_lname': '', 'author4_suffix': '', 'author4_email': '', 'author4_institution': '', 'author4_is_corporate': '', 'author5_fname': '', 'author5_mname': '', 'author5_lname': '', 'author5_suffix': '', 'author5_email': '', 'author5_institution': '', 'author5_is_corporate': '', 'calc_url': 'https://dl.designresearchsociety.org/drs-book-reviews/5', 'context_key': '38187828', 'issue': 'drs-book-reviews', 'ctmtime': '1740425044', 'year': 2024, 'month': 2, 'day': 1}\n"
     ]
    }
   ],
   "source": [
    "# LOAD XLS FILE FOR PROCESSING\n",
    "\n",
    "records = load_xls_data(\"book-reviews-250717.xls\")\n",
    "for rec in records[:5]:\n",
    "    print(rec)"
   ]
  },
  {
   "cell_type": "code",
   "execution_count": 4,
   "id": "4c4cb6e3",
   "metadata": {},
   "outputs": [],
   "source": [
    "# GENERATE XML TREE\n",
    "\n",
    "# Create the root element for the DOI batch\n",
    "root, head, body = generate_doi_batch_root()\n",
    "\n",
    "# Populate the head with metadata\n",
    "populate_doi_batch_head(head, \"book-reviews-250717.xls\")\n",
    "\n",
    "# Populate the body with book review records\n",
    "populate_book_review_body(body, records)"
   ]
  },
  {
   "cell_type": "code",
   "execution_count": 5,
   "id": "eeb15a56",
   "metadata": {},
   "outputs": [
    {
     "name": "stdout",
     "output_type": "stream",
     "text": [
      "XML written to /Users/lennymd/dev/drs-xml-generator/output/book-reviews-test.xml\n"
     ]
    }
   ],
   "source": [
    "# Save XML to file\n",
    "\n",
    "write_xml_to_file(root, \"book-reviews-test.xml\")"
   ]
  },
  {
   "cell_type": "code",
   "execution_count": null,
   "id": "091aa46e",
   "metadata": {},
   "outputs": [],
   "source": []
  }
 ],
 "metadata": {
  "kernelspec": {
   "display_name": "base",
   "language": "python",
   "name": "python3"
  },
  "language_info": {
   "codemirror_mode": {
    "name": "ipython",
    "version": 3
   },
   "file_extension": ".py",
   "mimetype": "text/x-python",
   "name": "python",
   "nbconvert_exporter": "python",
   "pygments_lexer": "ipython3",
   "version": "3.12.7"
  }
 },
 "nbformat": 4,
 "nbformat_minor": 5
}
