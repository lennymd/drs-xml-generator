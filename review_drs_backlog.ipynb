{
 "cells": [
  {
   "cell_type": "markdown",
   "id": "08e3fe47",
   "metadata": {},
   "source": [
    "I use this notebook to review the different DRS events that are currently saved to clean duplicates and find what needs to be updated. "
   ]
  },
  {
   "cell_type": "code",
   "execution_count": 1,
   "id": "bdababa4",
   "metadata": {},
   "outputs": [
    {
     "name": "stdout",
     "output_type": "stream",
     "text": [
      "Requirement already satisfied: pandas in /opt/miniconda3/lib/python3.12/site-packages (2.2.2)\n",
      "Requirement already satisfied: xlrd in /opt/miniconda3/lib/python3.12/site-packages (2.0.1)\n",
      "Requirement already satisfied: numpy>=1.26.0 in /opt/miniconda3/lib/python3.12/site-packages (from pandas) (1.26.4)\n",
      "Requirement already satisfied: python-dateutil>=2.8.2 in /opt/miniconda3/lib/python3.12/site-packages (from pandas) (2.9.0.post0)\n",
      "Requirement already satisfied: pytz>=2020.1 in /opt/miniconda3/lib/python3.12/site-packages (from pandas) (2024.1)\n",
      "Requirement already satisfied: tzdata>=2022.7 in /opt/miniconda3/lib/python3.12/site-packages (from pandas) (2023.3)\n",
      "Requirement already satisfied: six>=1.5 in /opt/miniconda3/lib/python3.12/site-packages (from python-dateutil>=2.8.2->pandas) (1.16.0)\n"
     ]
    }
   ],
   "source": [
    "!pip install pandas xlrd"
   ]
  },
  {
   "cell_type": "code",
   "execution_count": 2,
   "id": "95777507",
   "metadata": {},
   "outputs": [],
   "source": [
    "import pandas as pd\n",
    "import os"
   ]
  },
  {
   "cell_type": "code",
   "execution_count": 6,
   "id": "4bf31567",
   "metadata": {},
   "outputs": [],
   "source": [
    "from drsxml.core import load_xls_data\n",
    "file_path = \"./data/drs_all_250614.xls\"\n",
    "\n",
    "df = pd.read_excel(file_path)\n",
    "df = df.fillna(\"\").astype(str)\n",
    "# df.head(5)"
   ]
  },
  {
   "cell_type": "code",
   "execution_count": 7,
   "id": "2c193c90",
   "metadata": {},
   "outputs": [
    {
     "name": "stdout",
     "output_type": "stream",
     "text": [
      "Unique conference titles:\n",
      "['Synergy - DRS International Conference 2020'\n",
      " 'Future Focused Thinking - DRS International Conference 2016'\n",
      " 'Design as a catalyst for change - DRS International Conference 2018'\n",
      " 'Design and Complexity - DRS International Conference 2010'\n",
      " \"Design's Big Debates - DRS International Conference 2014\"\n",
      " 'Undisciplined! - DRS International Conference 2008'\n",
      " 'Futureground - DRS International Conference 2004'\n",
      " 'Research: Uncertainty Contradiction Value  - DRS International Conference 2012'\n",
      " 'Wonderground  - DRS International Conference 2006'\n",
      " 'Common Ground - DRS International Conference 2002' 'DRS2022: Bilbao'\n",
      " 'DRS2024: Boston']\n"
     ]
    }
   ],
   "source": [
    "print(\"Unique conference titles:\")\n",
    "print(df[\"conference_title\"].dropna().unique())"
   ]
  },
  {
   "cell_type": "code",
   "execution_count": 8,
   "id": "5a6fff23",
   "metadata": {},
   "outputs": [
    {
     "name": "stdout",
     "output_type": "stream",
     "text": [
      "Duplicate DOIs:\n",
      "['']\n"
     ]
    }
   ],
   "source": [
    "dup_dois = df[\"doi\"][df[\"doi\"].duplicated()].unique()\n",
    "print(\"Duplicate DOIs:\")\n",
    "print(dup_dois)"
   ]
  },
  {
   "cell_type": "code",
   "execution_count": null,
   "id": "bf98cc74",
   "metadata": {},
   "outputs": [],
   "source": [
    "# Group by 'conference_title'\n",
    "grouped = df.groupby(\"conference_title\")\n",
    "\n",
    "# Loop through groups and save\n",
    "for i, (name, group) in enumerate(grouped, start=1):\n",
    "    output_filename = f\"group{i}.csv\"\n",
    "    group.to_csv(\"output/\"+output_filename, index=False)\n",
    "    print(f\"Saved: {output_filename}\")"
   ]
  },
  {
   "cell_type": "code",
   "execution_count": null,
   "id": "408192b8",
   "metadata": {},
   "outputs": [],
   "source": []
  }
 ],
 "metadata": {
  "kernelspec": {
   "display_name": "base",
   "language": "python",
   "name": "python3"
  },
  "language_info": {
   "codemirror_mode": {
    "name": "ipython",
    "version": 3
   },
   "file_extension": ".py",
   "mimetype": "text/x-python",
   "name": "python",
   "nbconvert_exporter": "python",
   "pygments_lexer": "ipython3",
   "version": "3.12.7"
  }
 },
 "nbformat": 4,
 "nbformat_minor": 5
}
