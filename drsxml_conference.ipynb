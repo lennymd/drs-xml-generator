{
 "cells": [
  {
   "cell_type": "markdown",
   "id": "7cd090df",
   "metadata": {},
   "source": [
    "# Book Reviews Processor\n",
    "\n",
    "This notebook generates the XML file for CrossRef following the [Reports layout here ](https://gitlab.com/crossref/schema/-/blob/master/best-practice-examples/report.5.3.0.xml)\n"
   ]
  },
  {
   "cell_type": "code",
   "execution_count": 1,
   "id": "932d33fe",
   "metadata": {},
   "outputs": [],
   "source": [
    "from drsxml.core import (\n",
    "    generate_doi_batch_root,\n",
    "    populate_doi_batch_head,\n",
    "    preview_xml_tree,\n",
    "    load_xls_data,\n",
    "    write_xml_to_file,\n",
    "    populate_proceedings_body\n",
    ")"
   ]
  },
  {
   "cell_type": "code",
   "execution_count": null,
   "id": "7aafbb93",
   "metadata": {},
   "outputs": [],
   "source": [
    "# LOAD XLS FILE FOR PROCESSING AS WELL AS VARIABLES\n",
    "# conf_info = {\n",
    "#     \"data_file\": \"pluriversal_2020.xls\",\n",
    "#     \"name\": \"Pivot 2020: Designing a world of many centers\",\n",
    "#     \"proceedings_title\": \"Pivot 2020 Designing a World of Many Centers/9781912294428\",\n",
    "#     \"acronym\": \"Pivot2020\",\n",
    "#     \"volume_doi\": \"10.21606/pluriversal.2020.cv\",\n",
    "#     \"volume_url\": \"https://dl.designresearchsociety.org/conference-volumes/37/\",\n",
    "#     \"issn\": \"\",\n",
    "#     \"isbn\": \"9781912294428\",\n",
    "#     \"series_title\": \"\",\n",
    "# }\n",
    "\n",
    "# conf_info = {\n",
    "#     \"data_file\": \"drs_08.xls\",\n",
    "#     \"name\": \"Undisciplined! - DRS International Conference 2008\",\n",
    "#     \"acronym\": \"DRS2008\",\n",
    "#     \"volume_doi\": \"10.21606/drs.2008.cv\",\n",
    "#     \"volume_url\": \"https://dl.designresearchsociety.org/conference-volumes/\",\n",
    "#     \"issn\": \"23983132\",\n",
    "#     \"isbn\": \"\",\n",
    "#     \"series_title\": \"Proceedings of DRS\",\n",
    "# }\n",
    "\n",
    "\n",
    "records = load_xls_data(conf_info.get(\"data_file\"))\n",
    "# for rec in records[:5]:\n",
    "#     print(rec)"
   ]
  },
  {
   "cell_type": "code",
   "execution_count": 3,
   "id": "4c4cb6e3",
   "metadata": {},
   "outputs": [],
   "source": [
    "# GENERATE XML TREE\n",
    "\n",
    "# Create the root element for the DOI batch\n",
    "root, head, body = generate_doi_batch_root()\n",
    "\n",
    "# Populate the head with metadata\n",
    "populate_doi_batch_head(head, conf_info.get(\"data_file\"))\n",
    "\n",
    "body.clear()\n",
    "\n",
    "# Populate the body with book review records\n",
    "populate_proceedings_body(body, records, conf_info)"
   ]
  },
  {
   "cell_type": "code",
   "execution_count": 4,
   "id": "c372da3f",
   "metadata": {},
   "outputs": [],
   "source": [
    "# preview_xml_tree(root)"
   ]
  },
  {
   "cell_type": "code",
   "execution_count": 5,
   "id": "eeb15a56",
   "metadata": {},
   "outputs": [
    {
     "name": "stdout",
     "output_type": "stream",
     "text": [
      "XML written to /Users/lennymd/dev/drs-xml-generator/output/drs_out.xml\n"
     ]
    }
   ],
   "source": [
    "# Save XML to file\n",
    "\n",
    "write_xml_to_file(root, \"drs_out.xml\")"
   ]
  }
 ],
 "metadata": {
  "kernelspec": {
   "display_name": "base",
   "language": "python",
   "name": "python3"
  },
  "language_info": {
   "codemirror_mode": {
    "name": "ipython",
    "version": 3
   },
   "file_extension": ".py",
   "mimetype": "text/x-python",
   "name": "python",
   "nbconvert_exporter": "python",
   "pygments_lexer": "ipython3",
   "version": "3.12.7"
  }
 },
 "nbformat": 4,
 "nbformat_minor": 5
}
