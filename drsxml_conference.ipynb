{
 "cells": [
  {
   "cell_type": "markdown",
   "id": "7cd090df",
   "metadata": {},
   "source": [
    "# Book Reviews Processor\n",
    "\n",
    "This notebook generates the XML file for CrossRef following the [Reports layout here ](https://gitlab.com/crossref/schema/-/blob/master/best-practice-examples/report.5.3.0.xml)\n"
   ]
  },
  {
   "cell_type": "code",
   "execution_count": 1,
   "id": "932d33fe",
   "metadata": {},
   "outputs": [],
   "source": [
    "from drsxml.core import (\n",
    "    generate_doi_batch_root,\n",
    "    populate_doi_batch_head,\n",
    "    preview_xml_tree,\n",
    "    load_xls_data,\n",
    "    write_xml_to_file,\n",
    "    populate_proceedings_body\n",
    ")"
   ]
  },
  {
   "cell_type": "code",
   "execution_count": 2,
   "id": "7aafbb93",
   "metadata": {},
   "outputs": [
    {
     "name": "stdout",
     "output_type": "stream",
     "text": [
      "{'title': 'Designing fertility otherwise: Of human, animal and soil relations', 'shortname': '', 'editor_names': 'Holmlid, S., Rodrigues, V., Westin, C., Krogh, P. G., Mäkelä, M., Svanaes, D., Wikberg-Nilsson, Å', 'orcid': '', 'document_type': 'researchpaper', 'abstract': 'This exploratory paper unpacks the design space of fertility sensing, reflecting on current meanings and designs for fertility in humans, animals, and soil. Attending to the curious relations between these, we explore how fertility technologies share histories across patriarchal and capitalist visions of bodies and land. We provide a critical feminist analysis of fertility sensing and begin to unpack how design might approach this space otherwise, by means of exploratory prompts and opportunities that we call ‘design seeds’. We accompany the design seeds with four evocative images, engaging practically and materially with these opportunities, opening up for critical yet hopeful engagements with human, animal, and soil fertility. We invite designers to notice these entanglements and extend to more-than-human perspectives in designing fertility tracking and sensing technologies.', 'keywords': 'Fertility, Menstrual cycle, More-than-human design, Posthuman design, Feminist design', 'conference_title': 'Nordes 2023: This Space Intentionally Left Blank', 'doi': '10.21606/nordes.2023.36', 'doi_link': 'https://doi.org/10.21606/nordes.2023.36', 'custom_citation': '', 'comments': '', 'distribution_license': '', 'conference_track': 'exploratorypapers', 'conference_dates': '12-14 June', 'start_date': Timestamp('2023-06-12 09:00:00'), 'end_date': Timestamp('2023-06-14 17:00:00'), 'city': 'Linköping University, Norrköping', 'country': 'Sweden', 'topics': '', 'disciplines': '', 'fulltext_url': '', 'do_not_feature_this_article': '', 'update_reason': '', 'author1_fname': 'Nadia', 'author1_mname': '', 'author1_lname': 'Campo Woytuk', 'author1_suffix': '', 'author1_email': '', 'author1_institution': 'KTH Royal Institute of Technology', 'author1_is_corporate': '', 'author2_fname': 'Joo Young', 'author2_mname': '', 'author2_lname': 'Park', 'author2_suffix': '', 'author2_email': '', 'author2_institution': 'KTH Royal Institute of Technology', 'author2_is_corporate': '', 'author3_fname': 'Marie Louise Juul', 'author3_mname': '', 'author3_lname': 'Søndergaard', 'author3_suffix': '', 'author3_email': '', 'author3_institution': 'The Oslo School of Architecture and Design', 'author3_is_corporate': '', 'author4_fname': 'Madeline', 'author4_mname': '', 'author4_lname': 'Balaam', 'author4_suffix': '', 'author4_email': '', 'author4_institution': 'KTH Royal Institute of Technology', 'author4_is_corporate': '', 'author5_fname': 'Marianela', 'author5_mname': '', 'author5_lname': 'Ciolfi Felice', 'author5_suffix': '', 'author5_email': '', 'author5_institution': 'KTH Royal Institute of Technology', 'author5_is_corporate': '', 'author6_fname': '', 'author6_mname': '', 'author6_lname': '', 'author6_suffix': '', 'author6_email': '', 'author6_institution': '', 'author6_is_corporate': '', 'author7_fname': '', 'author7_mname': '', 'author7_lname': '', 'author7_suffix': '', 'author7_email': '', 'author7_institution': '', 'author7_is_corporate': '', 'author8_fname': '', 'author8_mname': '', 'author8_lname': '', 'author8_suffix': '', 'author8_email': '', 'author8_institution': '', 'author8_is_corporate': '', 'calc_url': 'https://dl.designresearchsociety.org/nordes/nordes2023/exploratorypapers/1', 'context_key': '35533183', 'issue': 'nordes/nordes2023/exploratorypapers', 'ctmtime': '1683882364', 'start_day': '12', 'end_day': '14', 'start_month': '06', 'end_month': '06', 'start_year': '2023', 'end_year': '2023'}\n",
      "{'title': 'Sensation and contemplation: A slow approach to designing inclusive museum experiences', 'shortname': '', 'editor_names': 'Holmlid, S., Rodrigues, V., Westin, C., Krogh, P. G., Mäkelä, M., Svanaes, D., Wikberg-Nilsson, Å', 'orcid': '', 'document_type': 'researchpaper', 'abstract': 'In a world where stillness and silence are increasingly hard to come by, museums can provide space for slowness, reflection and contemplation that contributes to wellbeing as well as inclusion of communities. This paper maps my current-ongoing PhD research into the benefits of a slow approach to designing museum experiences, as well as how this research contributes to a larger project making Bendigo Art Gallery more inclusive of blind and low vision (BLV) visitors. It guides the reader through a metaphorical museum visit, where inclusion and wellbeing are the exhibition subject. The reader is invited to engage with sensory design interventions which aim to address the absence of accessible materials for BLV visitors in museums and discusses the potential for innovative design in this––––––space.', 'keywords': 'Sensory design, Inclusive design, Wellbeing, Slowness', 'conference_title': 'Nordes 2023: This Space Intentionally Left Blank', 'doi': '10.21606/nordes.2023.38', 'doi_link': 'https://doi.org/10.21606/nordes.2023.38', 'custom_citation': '', 'comments': '', 'distribution_license': '', 'conference_track': 'exploratorypapers', 'conference_dates': '12-14 June', 'start_date': Timestamp('2023-06-12 09:00:00'), 'end_date': Timestamp('2023-06-14 17:00:00'), 'city': 'Linköping University, Norrköping', 'country': 'Sweden', 'topics': '', 'disciplines': '', 'fulltext_url': '', 'do_not_feature_this_article': '', 'update_reason': '', 'author1_fname': 'Jenna', 'author1_mname': '', 'author1_lname': 'Hall', 'author1_suffix': '', 'author1_email': '', 'author1_institution': 'Monash University', 'author1_is_corporate': '', 'author2_fname': '', 'author2_mname': '', 'author2_lname': '', 'author2_suffix': '', 'author2_email': '', 'author2_institution': '', 'author2_is_corporate': '', 'author3_fname': '', 'author3_mname': '', 'author3_lname': '', 'author3_suffix': '', 'author3_email': '', 'author3_institution': '', 'author3_is_corporate': '', 'author4_fname': '', 'author4_mname': '', 'author4_lname': '', 'author4_suffix': '', 'author4_email': '', 'author4_institution': '', 'author4_is_corporate': '', 'author5_fname': '', 'author5_mname': '', 'author5_lname': '', 'author5_suffix': '', 'author5_email': '', 'author5_institution': '', 'author5_is_corporate': '', 'author6_fname': '', 'author6_mname': '', 'author6_lname': '', 'author6_suffix': '', 'author6_email': '', 'author6_institution': '', 'author6_is_corporate': '', 'author7_fname': '', 'author7_mname': '', 'author7_lname': '', 'author7_suffix': '', 'author7_email': '', 'author7_institution': '', 'author7_is_corporate': '', 'author8_fname': '', 'author8_mname': '', 'author8_lname': '', 'author8_suffix': '', 'author8_email': '', 'author8_institution': '', 'author8_is_corporate': '', 'calc_url': 'https://dl.designresearchsociety.org/nordes/nordes2023/exploratorypapers/2', 'context_key': '35533184', 'issue': 'nordes/nordes2023/exploratorypapers', 'ctmtime': '1683882365', 'start_day': '12', 'end_day': '14', 'start_month': '06', 'end_month': '06', 'start_year': '2023', 'end_year': '2023'}\n",
      "{'title': 'Ecocritical experimentation with object theatre at a museum', 'shortname': '', 'editor_names': 'Holmlid, S., Rodrigues, V., Westin, C., Krogh, P. G., Mäkelä, M., Svanaes, D., Wikberg-Nilsson, Å', 'orcid': '', 'document_type': 'researchpaper', 'abstract': \"Human activity has globally affected the earth's climate and ecosystems. The museum sector has agency in representing topics of societal significance and climate change. The experiment presented here, took place at a history museum in order to re-work human subject positions in the museum. The method of object theatre with a departure in an ecocritical perspective was evaluated. The result shows that the method might retain a colonial perspective towards animals and nature. Still, the method brings a change in who is the subject in the story, a possible shift in perspective and an incentive to care and act. The participants talks about the experience of a less abstract relationship to the object's origin and life cycle and a curiosity or a discovery of a knowledge gap. The method can be used to bring a greater attention to the needs of nonhumans in collaborative and participatory design processes.\", 'keywords': 'Object theatre, Participatory design, Ecocritical, Climate change, Antropocene, Exhibitions, Museum', 'conference_title': 'Nordes 2023: This Space Intentionally Left Blank', 'doi': '10.21606/nordes.2023.52', 'doi_link': 'https://doi.org/10.21606/nordes.2023.52', 'custom_citation': '', 'comments': '', 'distribution_license': '', 'conference_track': 'exploratorypapers', 'conference_dates': '12-14 June', 'start_date': Timestamp('2023-06-12 09:00:00'), 'end_date': Timestamp('2023-06-14 17:00:00'), 'city': 'Linköping University, Norrköping', 'country': 'Sweden', 'topics': '', 'disciplines': '', 'fulltext_url': '', 'do_not_feature_this_article': 'False', 'update_reason': '', 'author1_fname': 'Jennie', 'author1_mname': '', 'author1_lname': 'Schaeffer', 'author1_suffix': '', 'author1_email': '', 'author1_institution': 'Västmanlands läns museum: Malardalen University', 'author1_is_corporate': '', 'author2_fname': '', 'author2_mname': '', 'author2_lname': '', 'author2_suffix': '', 'author2_email': '', 'author2_institution': '', 'author2_is_corporate': '', 'author3_fname': '', 'author3_mname': '', 'author3_lname': '', 'author3_suffix': '', 'author3_email': '', 'author3_institution': '', 'author3_is_corporate': '', 'author4_fname': '', 'author4_mname': '', 'author4_lname': '', 'author4_suffix': '', 'author4_email': '', 'author4_institution': '', 'author4_is_corporate': '', 'author5_fname': '', 'author5_mname': '', 'author5_lname': '', 'author5_suffix': '', 'author5_email': '', 'author5_institution': '', 'author5_is_corporate': '', 'author6_fname': '', 'author6_mname': '', 'author6_lname': '', 'author6_suffix': '', 'author6_email': '', 'author6_institution': '', 'author6_is_corporate': '', 'author7_fname': '', 'author7_mname': '', 'author7_lname': '', 'author7_suffix': '', 'author7_email': '', 'author7_institution': '', 'author7_is_corporate': '', 'author8_fname': '', 'author8_mname': '', 'author8_lname': '', 'author8_suffix': '', 'author8_email': '', 'author8_institution': '', 'author8_is_corporate': '', 'calc_url': 'https://dl.designresearchsociety.org/nordes/nordes2023/exploratorypapers/3', 'context_key': '35533185', 'issue': 'nordes/nordes2023/exploratorypapers', 'ctmtime': '1683882364', 'start_day': '12', 'end_day': '14', 'start_month': '06', 'end_month': '06', 'start_year': '2023', 'end_year': '2023'}\n",
      "{'title': 'Destabilizing the quotidian: Urban recipes for cultivating care in the more-than-human city', 'shortname': '', 'editor_names': 'Holmlid, S., Rodrigues, V., Westin, C., Krogh, P. G., Mäkelä, M., Svanaes, D., Wikberg-Nilsson, Å', 'orcid': '', 'document_type': 'researchpaper', 'abstract': 'This paper explores how everyday practices can be an inspiration for novel designerly ways of relating to others and cultivating care in response to the prevalent lack of care in our precarious world. We present Urban Recipes, an ongoing project that combines the spatial exploration of drifting with the recursive practice of recipe-making, opening up a space for new ways of relating to both humans and nonhumans in everyday urban environments. Applying the metaphors of cooking to this paper, we trace the evolution of the project, starting from the recipe and developing it into the cookbook and the test kitchen. Finally, as we gather our reflections at the table, we meditate on how the transformation of the personal, the destabilization of the quotidian, and the creation of the joyful through Urban Recipes facilitate a new way of noticing and caring.', 'keywords': 'Design experiment, More-than-human care, Urban spaces', 'conference_title': 'Nordes 2023: This Space Intentionally Left Blank', 'doi': '10.21606/nordes.2023.65', 'doi_link': 'https://doi.org/10.21606/nordes.2023.65', 'custom_citation': '', 'comments': '', 'distribution_license': '', 'conference_track': 'exploratorypapers', 'conference_dates': '12-14 June', 'start_date': Timestamp('2023-06-12 09:00:00'), 'end_date': Timestamp('2023-06-14 17:00:00'), 'city': 'Linköping University, Norrköping', 'country': 'Sweden', 'topics': '', 'disciplines': '', 'fulltext_url': '', 'do_not_feature_this_article': 'False', 'update_reason': '', 'author1_fname': 'Yuxi', 'author1_mname': '', 'author1_lname': 'Liu', 'author1_suffix': '', 'author1_email': '', 'author1_institution': 'Delft University of Technology', 'author1_is_corporate': '', 'author2_fname': 'Seda', 'author2_mname': '', 'author2_lname': 'Özçetin', 'author2_suffix': '', 'author2_email': '', 'author2_institution': 'Umeå Institute of Design, Umeå University', 'author2_is_corporate': '', 'author3_fname': '', 'author3_mname': '', 'author3_lname': '', 'author3_suffix': '', 'author3_email': '', 'author3_institution': '', 'author3_is_corporate': '', 'author4_fname': '', 'author4_mname': '', 'author4_lname': '', 'author4_suffix': '', 'author4_email': '', 'author4_institution': '', 'author4_is_corporate': '', 'author5_fname': '', 'author5_mname': '', 'author5_lname': '', 'author5_suffix': '', 'author5_email': '', 'author5_institution': '', 'author5_is_corporate': '', 'author6_fname': '', 'author6_mname': '', 'author6_lname': '', 'author6_suffix': '', 'author6_email': '', 'author6_institution': '', 'author6_is_corporate': '', 'author7_fname': '', 'author7_mname': '', 'author7_lname': '', 'author7_suffix': '', 'author7_email': '', 'author7_institution': '', 'author7_is_corporate': '', 'author8_fname': '', 'author8_mname': '', 'author8_lname': '', 'author8_suffix': '', 'author8_email': '', 'author8_institution': '', 'author8_is_corporate': '', 'calc_url': 'https://dl.designresearchsociety.org/nordes/nordes2023/exploratorypapers/4', 'context_key': '35533186', 'issue': 'nordes/nordes2023/exploratorypapers', 'ctmtime': '1683882364', 'start_day': '12', 'end_day': '14', 'start_month': '06', 'end_month': '06', 'start_year': '2023', 'end_year': '2023'}\n",
      "{'title': 'The blank white paper as a disobedient object', 'shortname': '', 'editor_names': 'Holmlid, S., Rodrigues, V., Westin, C., Krogh, P. G., Mäkelä, M., Svanaes, D., Wikberg-Nilsson, Å', 'orcid': '', 'document_type': 'researchpaper', 'abstract': '<p>On November 24, 2022, the White Paper Protests were started by Chinese people to protest against China’s strict zero-COVID policy and excessive censorship during the pandemic lockdown. In the protests, blank white papers were used as a means of protest. Framing the blank white paper as a ‘disobedient object’, our paper intends to capture a glimpse of the aesthetic composition of the protest movement. For this we collected responses from 42 Chinese citizens about their views of ‘white paper’. Based on the data, we interpret the aesthetic composition of the protest movement in three parts, ‘Blank Means:’, ‘Blank Fiction’ and ‘Making with Blank’. Treating the blank white paper as a design artefact, our concern is not just the object’s visual characteristics as a form of expression, but also the potential and capability of ‘Blank’ to facilitate transformation and change which we believe is what a design object should do.</p>', 'keywords': 'Disobedient object, Protest, COVID', 'conference_title': 'Nordes 2023: This Space Intentionally Left Blank', 'doi': '10.21606/nordes.2023.71', 'doi_link': '<p>https://doi.org/10.21606/nordes.2023.71</p>', 'custom_citation': '', 'comments': '', 'distribution_license': '', 'conference_track': 'exploratorypapers', 'conference_dates': '12-14 June', 'start_date': Timestamp('2023-06-12 09:00:00'), 'end_date': Timestamp('2023-06-14 17:00:00'), 'city': 'Linköping University, Norrköping', 'country': 'Sweden', 'topics': '', 'disciplines': 'Art and Design', 'fulltext_url': '', 'do_not_feature_this_article': 'False', 'update_reason': '', 'author1_fname': 'Yiying', 'author1_mname': '', 'author1_lname': 'Wu', 'author1_suffix': '', 'author1_email': '', 'author1_institution': 'Hong Kong Polytechnic University', 'author1_is_corporate': '', 'author2_fname': 'Karthikeya', 'author2_mname': '', 'author2_lname': 'Acharya', 'author2_suffix': '', 'author2_email': '', 'author2_institution': 'Aarhus University', 'author2_is_corporate': '', 'author3_fname': '', 'author3_mname': '', 'author3_lname': '', 'author3_suffix': '', 'author3_email': '', 'author3_institution': '', 'author3_is_corporate': '', 'author4_fname': '', 'author4_mname': '', 'author4_lname': '', 'author4_suffix': '', 'author4_email': '', 'author4_institution': '', 'author4_is_corporate': '', 'author5_fname': '', 'author5_mname': '', 'author5_lname': '', 'author5_suffix': '', 'author5_email': '', 'author5_institution': '', 'author5_is_corporate': '', 'author6_fname': '', 'author6_mname': '', 'author6_lname': '', 'author6_suffix': '', 'author6_email': '', 'author6_institution': '', 'author6_is_corporate': '', 'author7_fname': '', 'author7_mname': '', 'author7_lname': '', 'author7_suffix': '', 'author7_email': '', 'author7_institution': '', 'author7_is_corporate': '', 'author8_fname': '', 'author8_mname': '', 'author8_lname': '', 'author8_suffix': '', 'author8_email': '', 'author8_institution': '', 'author8_is_corporate': '', 'calc_url': 'https://dl.designresearchsociety.org/nordes/nordes2023/exploratorypapers/5', 'context_key': '35533187', 'issue': 'nordes/nordes2023/exploratorypapers', 'ctmtime': '1686477191', 'start_day': '12', 'end_day': '14', 'start_month': '06', 'end_month': '06', 'start_year': '2023', 'end_year': '2023'}\n"
     ]
    }
   ],
   "source": [
    "# LOAD XLS FILE FOR PROCESSING AS WELL AS VARIABLES\n",
    "conf_info = {\n",
    "    \"data_file\": \"nordes23.xls\",\n",
    "    \"name\": \"Nordes 2023: This Space Left Intentionally Blank\",\n",
    "    \"acronym\": \"Nordes 2023\",\n",
    "    \"volume_doi\": \"10.21606/nordes.2023.cv\",\n",
    "    \"volume_url\": \"https://dl.designresearchsociety.org/conference-volumes/57/\",\n",
    "    \"issn\": \"16049705\",\n",
    "    \"isbn\": \"9781912294589\",\n",
    "    \"series_title\": \"Nordic Design Research Conference\",\n",
    "}\n",
    "\n",
    "# conf_info = {\n",
    "#     \"data_file\": \"eksig25.xls\",\n",
    "#     \"name\": \"EKSIG 2025: DATA AS EXPERIENTIAL KNOWLEDGE AND EMBODIED PROCESSES\",\n",
    "#     \"acronym\": \"EKSIG25\",\n",
    "#     \"volume_doi\": \"10.21606/eksig2025.cv\",\n",
    "#     \"volume_url\": \"https://dl.designresearchsociety.org/conference-volumes/67/\",\n",
    "#     \"issn\": \"\",\n",
    "#     \"isbn\":\"\",\n",
    "#     \"series_title\": \"\"\n",
    "# }\n",
    "\n",
    "\n",
    "records = load_xls_data(conf_info.get(\"data_file\"))\n",
    "for rec in records[:5]:\n",
    "    print(rec)"
   ]
  },
  {
   "cell_type": "code",
   "execution_count": 3,
   "id": "4c4cb6e3",
   "metadata": {},
   "outputs": [],
   "source": [
    "# GENERATE XML TREE\n",
    "\n",
    "# Create the root element for the DOI batch\n",
    "root, head, body = generate_doi_batch_root()\n",
    "\n",
    "# Populate the head with metadata\n",
    "populate_doi_batch_head(head, conf_info.get(\"data_file\"))\n",
    "\n",
    "body.clear()\n",
    "\n",
    "# Populate the body with book review records\n",
    "populate_proceedings_body(body, records, conf_info)"
   ]
  },
  {
   "cell_type": "code",
   "execution_count": 4,
   "id": "c372da3f",
   "metadata": {},
   "outputs": [],
   "source": [
    "# preview_xml_tree(root)"
   ]
  },
  {
   "cell_type": "code",
   "execution_count": 5,
   "id": "eeb15a56",
   "metadata": {},
   "outputs": [
    {
     "name": "stdout",
     "output_type": "stream",
     "text": [
      "XML written to /Users/lennymd/dev/drs-xml-generator/output/nordes23-4.xml\n"
     ]
    }
   ],
   "source": [
    "# Save XML to file\n",
    "\n",
    "write_xml_to_file(root, \"nordes23-4.xml\")"
   ]
  }
 ],
 "metadata": {
  "kernelspec": {
   "display_name": "base",
   "language": "python",
   "name": "python3"
  },
  "language_info": {
   "codemirror_mode": {
    "name": "ipython",
    "version": 3
   },
   "file_extension": ".py",
   "mimetype": "text/x-python",
   "name": "python",
   "nbconvert_exporter": "python",
   "pygments_lexer": "ipython3",
   "version": "3.12.7"
  }
 },
 "nbformat": 4,
 "nbformat_minor": 5
}
