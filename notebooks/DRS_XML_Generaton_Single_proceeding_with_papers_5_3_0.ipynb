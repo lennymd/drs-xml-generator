{
  "nbformat": 4,
  "nbformat_minor": 0,
  "metadata": {
    "colab": {
      "provenance": []
    },
    "kernelspec": {
      "name": "python3",
      "display_name": "Python 3"
    },
    "language_info": {
      "name": "python"
    }
  },
  "cells": [
    {
      "cell_type": "code",
      "execution_count": null,
      "metadata": {
        "id": "N2nHTvH2ERzH"
      },
      "outputs": [],
      "source": [
        "import pandas as pd\n",
        "from lxml import etree\n",
        "from datetime import datetime"
      ]
    },
    {
      "cell_type": "markdown",
      "source": [
        "# MANUAL VARIABLES\n",
        "\n",
        "Check this before the run."
      ],
      "metadata": {
        "id": "Kp6Ejj0DEhL1"
      }
    },
    {
      "cell_type": "code",
      "source": [
        "DATA_FILE_NAME = \"eksig25\"\n",
        "BATCH_ID_NAME = DATA_FILE_NAME\n",
        "\n",
        "START_DATE = \"2025-05-12\"\n",
        "END_DATE = \"2025-05-13\"\n",
        "\n",
        "CONF_NAME = \"EKSIG 2025: DATA AS EXPERIENTIAL KNOWLEDGE AND EMBODIED PROCESSES\"\n",
        "CONF_ACRONYM = \"EKSIG2025\"\n",
        "PROCEEDINGS_TITLE = CONF_NAME\n",
        "\n",
        "# ISBN = \"9781912294008\"\n",
        "ISBN = \"\"\n",
        "\n",
        "CONF_VOLUME_DOI = \"10.21606/eksig2025.cv\"\n",
        "CONF_VOLUME_URL = \"https://dl.designresearchsociety.org/conference-volumes/67/\"\n",
        "\n",
        "MAX_AUTHORS = 9 # You set this by checking the CSV file to see what's the most number of authors a paper has.\n",
        "\n",
        "\n",
        "\n",
        "# DO NOT TOUCH THESE\n",
        "today = datetime.now()\n",
        "\n",
        "SUBMISSION_TIMESTAMP = today.strftime(\"%Y%m%d%H%M%S\") + \"0000\""
      ],
      "metadata": {
        "id": "IaF285CqEgkD"
      },
      "execution_count": null,
      "outputs": []
    },
    {
      "cell_type": "markdown",
      "source": [
        "# UTILITY FUNCTIONS\n",
        "\n",
        "Functions for running and generating code for use."
      ],
      "metadata": {
        "id": "0G0K3zWLEqX8"
      }
    },
    {
      "cell_type": "code",
      "source": [
        "def view_xml_result():\n",
        "    \"\"\"check the state of XML at any point\"\"\"\n",
        "    # Pretty-print the XML\n",
        "    xml_string = etree.tostring(doi_batch, pretty_print=True, xml_declaration=True, encoding=\"utf-8\").decode(\"utf-8\")\n",
        "\n",
        "    # Print the formatted XML\n",
        "    print(xml_string)\n",
        "\n",
        "\n",
        "def extract_date_parts(datetime_str):\n",
        "    year, month, day = datetime_str.split(\"-\")\n",
        "    return [day, month, year]\n",
        "\n",
        "def make_body_structure(_root):\n",
        "    # event_metadata contains info about the particular proceeding\n",
        "    event_metadata = etree.SubElement(_root, \"event_metadata\")\n",
        "    conference_name = etree.SubElement(event_metadata, \"conference_name\").text = CONF_NAME\n",
        "    conference_acronym = etree.SubElement(event_metadata, \"conference_acronym\").text = CONF_ACRONYM\n",
        "\n",
        "    # conference_date is something we set.\n",
        "    conference_date = etree.SubElement(event_metadata, \"conference_date\")\n",
        "    conference_date.text = conf_dates_str\n",
        "    attributes = [\"day\", \"month\", \"year\"]\n",
        "\n",
        "    for attr, start_value, end_value in zip(attributes, start_date_parts, end_date_parts):\n",
        "        conference_date.set(f\"start_{attr}\", start_value)\n",
        "        conference_date.set(f\"end_{attr}\", end_value)\n",
        "\n",
        "    # proceedings_metadata keeps info about the series.\n",
        "    proceedings_metadata = etree.SubElement(conference, \"proceedings_metadata\")\n",
        "    proceedings_metadata.set(\"language\", \"en\")\n",
        "\n",
        "    # proceedings_title\n",
        "    proceedings_title = etree.SubElement(proceedings_metadata, \"proceedings_title\").text = CONF_NAME\n",
        "\n",
        "    publisher = etree.SubElement(proceedings_metadata, \"publisher\")\n",
        "    publisher_name = etree.SubElement(publisher, \"publisher_name\").text = \"Design Research Society\"\n",
        "\n",
        "\n",
        "    # publication_date > month, day, year\n",
        "    publication_date = etree.SubElement(proceedings_metadata, \"publication_date\")\n",
        "    publication_date.set(\"media_type\", \"online\")\n",
        "    publication_month = etree.SubElement(publication_date, \"month\").text = start_date_parts[1]\n",
        "    publication_day = etree.SubElement(publication_date, \"day\").text = start_date_parts[0]\n",
        "    publication_year = etree.SubElement(publication_date, \"year\").text = start_date_parts[2]\n",
        "\n",
        "    if len(ISBN) > 0:\n",
        "        isbn = etree.SubElement(proceedings_metadata, \"isbn\").text = ISBN\n",
        "    else:\n",
        "        isbn = etree.SubElement(proceedings_metadata, \"noisbn\")\n",
        "        isbn.set(\"reason\", \"simple_series\")\n",
        "\n",
        "    doi_data = etree.SubElement(proceedings_metadata, \"doi_data\")\n",
        "    doi = etree.SubElement(doi_data, \"doi\").text = CONF_VOLUME_DOI\n",
        "    resource = etree.SubElement(doi_data, \"resource\").text = CONF_VOLUME_URL\n",
        "\n",
        "\n",
        "\n",
        "\n",
        "def generate_papers(detailed_info=False):\n",
        "    for index, row in df_core.iterrows():\n",
        "        print(\"-----\\n\")\n",
        "        print(f\"Working on row {index}: {row['title']}\")\n",
        "\n",
        "        if detailed_info:\n",
        "            print(\"Row details:\")\n",
        "            for col in row.index:\n",
        "                print(f\"  {col}: {row[col]}\")\n",
        "\n",
        "        # Create the right XML\n",
        "        conference_paper = etree.SubElement(conference, \"conference_paper\")\n",
        "        conference_paper.set(\"language\", \"en\")\n",
        "        conference_paper.set(\"publication_type\", \"full_text\")\n",
        "\n",
        "        #contributors\n",
        "        contributors = etree.SubElement(conference_paper, \"contributors\")\n",
        "        #titles\n",
        "        titles = etree.SubElement(conference_paper, \"titles\")\n",
        "        title = etree.SubElement(titles, \"title\")\n",
        "        title.text = row[\"title\"]\n",
        "\n",
        "        #publication_date\n",
        "        publication_date = etree.SubElement(conference_paper, \"publication_date\")\n",
        "        publication_date.set(\"media_type\", \"online\")\n",
        "        publication_month = etree.SubElement(publication_date, \"month\").text = start_date_parts[1]\n",
        "        publication_day = etree.SubElement(publication_date, \"day\").text = start_date_parts[0]\n",
        "        publication_year = etree.SubElement(publication_date, \"year\").text = start_date_parts[2]\n",
        "\n",
        "        #doi_data\n",
        "        doi_data = etree.SubElement(conference_paper, \"doi_data\")\n",
        "        doi = etree.SubElement(doi_data, \"doi\").text = row[\"doi\"]\n",
        "        resource = etree.SubElement(doi_data, \"resource\").text = row[\"calc_url\"]\n",
        "\n",
        "\n",
        "        # Populate contributors\n",
        "        # add author1\n",
        "        author1 = etree.SubElement(contributors, \"person_name\")\n",
        "        author1.set(\"sequence\", \"first\")\n",
        "        author1.set(\"contributor_role\", \"author\")\n",
        "        author1_given_name = etree.SubElement(author1, \"given_name\").text = row[\"author1_fname\"].strip()\n",
        "        author1_surname = etree.SubElement(author1, \"surname\").text = row[\"author1_lname\"].strip()\n",
        "        author1_affiliation = etree.SubElement(author1, \"affiliations\")\n",
        "        author1_institution = etree.SubElement(author1_affiliation, \"institution\")\n",
        "        author1_institution_name = etree.SubElement(author1_institution, \"institution_name\").text = row[\"author1_institution\"].strip()\n",
        "\n",
        "\n",
        "        # add additional authors\n",
        "        for x in range(2, MAX_AUTHORS+1):\n",
        "            fname = row[f\"author{x}_fname\"].strip()\n",
        "\n",
        "            if not fname:  # Check if fname is an empty string\n",
        "                break\n",
        "\n",
        "            author = etree.SubElement(contributors, \"person_name\")\n",
        "            author.set(\"sequence\", \"additional\")\n",
        "            author.set(\"contributor_role\", \"author\")\n",
        "            given_name = etree.SubElement(author, \"given_name\").text = fname\n",
        "            surname = etree.SubElement(author, \"surname\").text = row[f\"author{x}_lname\"].strip()\n",
        "            affiliation = etree.SubElement(author, \"affiliations\")\n",
        "            institution = etree.SubElement(affiliation, \"institution\")\n",
        "            institution_name = etree.SubElement(institution, \"institution_name\").text = row[f\"author{x}_institution\"].strip()\n",
        "\n",
        "\n",
        "    print(\"====\\n ALL DONE\")\n"
      ],
      "metadata": {
        "id": "-B-dVgcYEwhA"
      },
      "execution_count": null,
      "outputs": []
    },
    {
      "cell_type": "markdown",
      "source": [
        "# GENERATE ROOT"
      ],
      "metadata": {
        "id": "iTqAtiApGnQ5"
      }
    },
    {
      "cell_type": "code",
      "source": [
        "# Define namespaces without 'xmlns:' in the keys\n",
        "namespaces = {\n",
        "    \"xsi\": \"http://www.w3.org/2001/XMLSchema-instance\",\n",
        "    None: \"http://www.crossref.org/schema/5.3.0\",  # Default namespace\n",
        "    \"jats\": \"http://www.ncbi.nlm.nih.gov/JATS1\",\n",
        "    \"fr\": \"http://www.crossref.org/fundref.xsd\",\n",
        "    \"mml\": \"http://www.w3.org/1998/Math/MathML\",\n",
        "}\n",
        "\n",
        "# Create the root element with namespaces\n",
        "doi_batch = etree.Element(\"doi_batch\", nsmap=namespaces)\n",
        "\n",
        "doi_batch.set(\"version\", \"5.3.0\")\n",
        "\n",
        "doi_batch.set(\n",
        "    \"{http://www.w3.org/2001/XMLSchema-instance}schemaLocation\",\n",
        "    \"http://www.crossref.org/schema/5.3.0 https://www.crossref.org/schemas/crossref5.3.0.xsd\"\n",
        ")\n",
        "\n",
        "# Add head and body\n",
        "head = etree.SubElement(doi_batch, \"head\")\n",
        "body = etree.SubElement(doi_batch, \"body\")"
      ],
      "metadata": {
        "id": "sL5-wmo1GjbU"
      },
      "execution_count": null,
      "outputs": []
    },
    {
      "cell_type": "markdown",
      "source": [
        "# POPULATE HEAD\n"
      ],
      "metadata": {
        "id": "0KzbJ3sVGy3b"
      }
    },
    {
      "cell_type": "code",
      "source": [
        "today_short = today.strftime(\"%y%m%d\")\n",
        "\n",
        "doi_batch_id = etree.SubElement(head, \"doi_batch_id\").text = BATCH_ID_NAME + \"__\" + today_short\n",
        "timestamp = etree.SubElement(head, \"timestamp\").text = SUBMISSION_TIMESTAMP\n",
        "\n",
        "depositor = etree.SubElement(head, \"depositor\")\n",
        "depositor_name = etree.SubElement(depositor, \"depositor_name\").text = \"desres:desres\"\n",
        "email_address = etree.SubElement(depositor, \"email_address\").text = (\"dl@designresearchsociety.org\")\n",
        "\n",
        "registrant = etree.SubElement(head, \"registrant\").text = \"Digital Library\""
      ],
      "metadata": {
        "id": "l_TwfzwqGsEt"
      },
      "execution_count": null,
      "outputs": []
    },
    {
      "cell_type": "code",
      "source": [
        "conf_dates_str = str(pd.read_excel(DATA_FILE_NAME + \".xls\", usecols=[\"conference_dates\"]).iloc[0, 0] or '')\n",
        "\n",
        "\n",
        "start_date_parts = extract_date_parts(START_DATE)\n",
        "end_date_parts = extract_date_parts(END_DATE)\n",
        "\n"
      ],
      "metadata": {
        "id": "D88kY6hhG6Hz"
      },
      "execution_count": null,
      "outputs": []
    },
    {
      "cell_type": "code",
      "source": [
        "# Clear the body before running this to make sure we don't have duplicates\n",
        "body.clear()\n",
        "\n",
        "\n",
        "conference = etree.SubElement(body, \"conference\")\n",
        "make_body_structure(conference)\n",
        "view_xml_result()"
      ],
      "metadata": {
        "id": "RzOzs1xRHnsk",
        "colab": {
          "base_uri": "https://localhost:8080/"
        },
        "outputId": "7ffb0639-c860-4ed1-a9a2-e929d3dc423e"
      },
      "execution_count": null,
      "outputs": [
        {
          "output_type": "stream",
          "name": "stdout",
          "text": [
            "<?xml version='1.0' encoding='utf-8'?>\n",
            "<doi_batch xmlns:xsi=\"http://www.w3.org/2001/XMLSchema-instance\" xmlns=\"http://www.crossref.org/schema/5.3.0\" xmlns:jats=\"http://www.ncbi.nlm.nih.gov/JATS1\" xmlns:fr=\"http://www.crossref.org/fundref.xsd\" xmlns:mml=\"http://www.w3.org/1998/Math/MathML\" version=\"5.3.0\" xsi:schemaLocation=\"http://www.crossref.org/schema/5.3.0 https://www.crossref.org/schemas/crossref5.3.0.xsd\">\n",
            "  <head>\n",
            "    <doi_batch_id>eksig25__250510</doi_batch_id>\n",
            "    <timestamp>202505102131290000</timestamp>\n",
            "    <depositor>\n",
            "      <depositor_name>desres:desres</depositor_name>\n",
            "      <email_address>dl@designresearchsociety.org</email_address>\n",
            "    </depositor>\n",
            "    <registrant>Digital Library</registrant>\n",
            "  </head>\n",
            "  <body>\n",
            "    <conference>\n",
            "      <event_metadata>\n",
            "        <conference_name>EKSIG 2025: DATA AS EXPERIENTIAL KNOWLEDGE AND EMBODIED PROCESSES</conference_name>\n",
            "        <conference_acronym>EKSIG2025</conference_acronym>\n",
            "        <conference_date start_day=\"12\" end_day=\"13\" start_month=\"05\" end_month=\"05\" start_year=\"2025\" end_year=\"2025\">12-13 May</conference_date>\n",
            "      </event_metadata>\n",
            "      <proceedings_metadata language=\"en\">\n",
            "        <proceedings_title>EKSIG 2025: DATA AS EXPERIENTIAL KNOWLEDGE AND EMBODIED PROCESSES</proceedings_title>\n",
            "        <publisher>\n",
            "          <publisher_name>Design Research Society</publisher_name>\n",
            "        </publisher>\n",
            "        <publication_date media_type=\"online\">\n",
            "          <month>05</month>\n",
            "          <day>12</day>\n",
            "          <year>2025</year>\n",
            "        </publication_date>\n",
            "        <noisbn reason=\"simple_series\"/>\n",
            "        <doi_data>\n",
            "          <doi>10.21606/eksig2025.cv</doi>\n",
            "          <resource>https://dl.designresearchsociety.org/conference-volumes/67/</resource>\n",
            "        </doi_data>\n",
            "      </proceedings_metadata>\n",
            "    </conference>\n",
            "  </body>\n",
            "</doi_batch>\n",
            "\n"
          ]
        }
      ]
    },
    {
      "cell_type": "markdown",
      "source": [
        "# LOAD COLUMNS"
      ],
      "metadata": {
        "id": "9TWkUVZOMCBJ"
      }
    },
    {
      "cell_type": "code",
      "source": [
        "df = pd.read_excel(DATA_FILE_NAME+\".xls\")\n",
        "\n",
        "content_cols = [\"title\", \"calc_url\", \"doi\"]\n",
        "\n",
        "for x in range(1, MAX_AUTHORS+1):\n",
        "    for y in [\"fname\", \"lname\", \"institution\"]:\n",
        "        content_cols.append(f\"author{x}_{y}\")\n",
        "\n",
        "df_core = df[content_cols]\n",
        "df_core = df_core.fillna('').astype(str)\n",
        "# df_core.head(10)\n",
        "# df_core.columns"
      ],
      "metadata": {
        "id": "NbXN087SKs-A"
      },
      "execution_count": null,
      "outputs": []
    },
    {
      "cell_type": "markdown",
      "source": [
        "# CODE FOR GENERATING CONFERENCE PAPERS"
      ],
      "metadata": {
        "id": "cYZfaipcMI12"
      }
    },
    {
      "cell_type": "code",
      "source": [],
      "metadata": {
        "id": "i0_p1l_oMDtQ"
      },
      "execution_count": null,
      "outputs": []
    },
    {
      "cell_type": "code",
      "source": [
        "body.clear()\n",
        "# conference is the container for everything in body\n",
        "conference = etree.SubElement(body, \"conference\")\n",
        "make_body_structure(conference)\n",
        "generate_papers()\n",
        "# view_xml_result()"
      ],
      "metadata": {
        "colab": {
          "base_uri": "https://localhost:8080/"
        },
        "id": "hesfeGamMH-E",
        "outputId": "31f7ed58-849c-46f9-ea62-41e0ab20e756"
      },
      "execution_count": null,
      "outputs": [
        {
          "output_type": "stream",
          "name": "stdout",
          "text": [
            "-----\n",
            "\n",
            "Working on row 0: Which Interaction? Mapping Feedback and Feedforward in Data Physicalization(s)\n",
            "-----\n",
            "\n",
            "Working on row 1: An Intuitive Approach to Enstoriment during Demonstrator Design Process: A Pilot Case Study\n",
            "-----\n",
            "\n",
            "Working on row 2: Collaborative Theorizing with Energy Data\n",
            "-----\n",
            "\n",
            "Working on row 3: How Do Design Students Use Data in Physicalization Courses?\n",
            "-----\n",
            "\n",
            "Working on row 4: Craftsman Gaze Data Study to Enhance Craft Material Selection and Facilitate Knowledge Transfer\n",
            "-----\n",
            "\n",
            "Working on row 5: Materializing More-than-Human Data through Mapping Wools\n",
            "-----\n",
            "\n",
            "Working on row 6: Materializing Data: A Macramé-Inspired Framework for Evaluating the Effectiveness of Creative Participatory Research\n",
            "-----\n",
            "\n",
            "Working on row 7: Memories as Materialized Data for Designing Emotionally Durable Handbags\n",
            "-----\n",
            "\n",
            "Working on row 8: Embodied Data: Gleaning Narratives of Living with Chronic Gut Diseases to Guide the Design Process\n",
            "-----\n",
            "\n",
            "Working on row 9: Body Maps as A Source of Women’s Embodied Experiences: A Diary Study into Visualising Personal Health Data\n",
            "-----\n",
            "\n",
            "Working on row 10: How Do You Feel? Physical Vocabularies for Communicating Pain Using Data Physicalization\n",
            "-----\n",
            "\n",
            "Working on row 11: Situated Truths: Models of Interpretation in Designing with Data\n",
            "-----\n",
            "\n",
            "Working on row 12: Rethinking the Interior Design Process: Advancing Circularity through Evidence-Based Design\n",
            "-----\n",
            "\n",
            "Working on row 13: Exploring the Impact of Big Data and Thick Data on Collaboration Between Design and Business Professionals : A New Approach to Data-Informed Design\n",
            "-----\n",
            "\n",
            "Working on row 14: Tangible Patterns in Material-based Data Visualizations for the Quantified-Self\n",
            "-----\n",
            "\n",
            "Working on row 15: Sensing Beyond Graphs, Artifacts, and Matter: Data Polysensualization as a Framework for Environmental Detection in Art and Design practices\n",
            "-----\n",
            "\n",
            "Working on row 16: Exploring How Fab Lab Machines and Personal Digital Data Inform One Another in Shaping Physicalization Practices\n",
            "-----\n",
            "\n",
            "Working on row 17: The Impact of Audio-Visual Legends on Information Design: A Research through Design Case Study\n",
            "-----\n",
            "\n",
            "Working on row 18: Designing More-than-Data Walks: A Situated Approach to Understanding Place in a Data-Driven Society\n",
            "-----\n",
            "\n",
            "Working on row 19: Migration Narratives as Generative Data Visualization: Iranian Migration Stories\n",
            "-----\n",
            "\n",
            "Working on row 20: The Physiognomy of Masks: Exploring their Role As Data Carriers in Narrative Creation\n",
            "-----\n",
            "\n",
            "Working on row 21: Beyond the Paper Trail: Challenging Traditional Outputs in Design Research\n",
            "-----\n",
            "\n",
            "Working on row 22: Post-Futures: A Speculative Design Method Integrating Data Fiction for Design-Futures Education\n",
            "-----\n",
            "\n",
            "Working on row 23: Experiencing Uncertainty: The Introduction of Liminality and Latency in Speculative Mapping of Lake Karla\n",
            "-----\n",
            "\n",
            "Working on row 24: The Future of the Footwear Industry: Bibliometric and Systematic Analysis of Literature from 2018 to 2023\n",
            "-----\n",
            "\n",
            "Working on row 25: Richness and Ambiguity: Mapping Artificial Intelligence Labels in Human-AI Collaboration Research\n",
            "-----\n",
            "\n",
            "Working on row 26: Towards Distributed Creativity: Understanding Generative AI in the Context of Design Philosophy and the Material Turn\n",
            "-----\n",
            "\n",
            "Working on row 27: Expert Insights into XR and Urban Digital Twins: Shaping Future Phygital Cultural Experiences\n",
            "====\n",
            " ALL DONE\n"
          ]
        }
      ]
    },
    {
      "cell_type": "markdown",
      "source": [
        "# SAVE XML"
      ],
      "metadata": {
        "id": "R6ED6HwGM2pt"
      }
    },
    {
      "cell_type": "code",
      "source": [
        "xml_string = etree.tostring(doi_batch, pretty_print=True, xml_declaration=True, encoding=\"utf-8\").decode(\"utf-8\")\n",
        "\n",
        "output_file = f\"{DATA_FILE_NAME}.xml\"\n",
        "# Open the file in write mode and save the XML string\n",
        "with open(output_file, \"w\", encoding=\"utf-8\") as f:\n",
        "    f.write(xml_string)\n",
        "\n",
        "print(f\"XML has been saved to {output_file}\")"
      ],
      "metadata": {
        "colab": {
          "base_uri": "https://localhost:8080/"
        },
        "id": "kFvbq5ETMN7E",
        "outputId": "fccde283-cda0-4a97-dba2-ef561c8f896c"
      },
      "execution_count": null,
      "outputs": [
        {
          "output_type": "stream",
          "name": "stdout",
          "text": [
            "XML has been saved to eksig25.xml\n"
          ]
        }
      ]
    },
    {
      "cell_type": "code",
      "source": [],
      "metadata": {
        "id": "dzG2vSpPM4jH"
      },
      "execution_count": null,
      "outputs": []
    }
  ]
}